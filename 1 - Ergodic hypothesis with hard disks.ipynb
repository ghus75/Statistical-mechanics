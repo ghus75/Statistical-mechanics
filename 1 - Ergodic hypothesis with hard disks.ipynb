{
 "cells": [
  {
   "cell_type": "markdown",
   "metadata": {},
   "source": [
    "## Hard disks"
   ]
  },
  {
   "cell_type": "markdown",
   "metadata": {},
   "source": [
    "#### Check ergodic hyothesis by showing equiprobability of 3 configs using direct sampling, Markov chain sampling and classical molecular dynamics"
   ]
  },
  {
   "cell_type": "markdown",
   "metadata": {},
   "source": [
    "![Check equiprobability](figs/jwbqZdGXEeWvxwo5BbZD3w_4354c03659c2938026c0fcd2800d8b0c_smac_images_DM2_figure_boxes.png)"
   ]
  },
  {
   "cell_type": "markdown",
   "metadata": {},
   "source": [
    "#### 1. using direct sampling"
   ]
  },
  {
   "cell_type": "code",
   "execution_count": 5,
   "metadata": {},
   "outputs": [],
   "source": [
    "from tqdm import tqdm_notebook as tqdm\n",
    "import random, math\n"
   ]
  },
  {
   "cell_type": "code",
   "execution_count": 6,
   "metadata": {
    "scrolled": false
   },
   "outputs": [
    {
     "name": "stderr",
     "output_type": "stream",
     "text": [
      "<ipython-input-6-ed8c1ca33d06>:29: TqdmDeprecationWarning: This function will be removed in tqdm==5.0.0\n",
      "Please use `tqdm.notebook.tqdm` instead of `tqdm.tqdm_notebook`\n",
      "  for run in tqdm(range(n_runs)):\n"
     ]
    },
    {
     "data": {
      "application/vnd.jupyter.widget-view+json": {
       "model_id": "d4fd0a62dc4246bb8950c83dabc8254d",
       "version_major": 2,
       "version_minor": 0
      },
      "text/plain": [
       "HBox(children=(HTML(value=''), FloatProgress(value=0.0, max=100000.0), HTML(value='')))"
      ]
     },
     "metadata": {},
     "output_type": "display_data"
    },
    {
     "name": "stdout",
     "output_type": "stream",
     "text": [
      "\n",
      "((0.3, 0.3), (0.3, 0.7), (0.7, 0.3), (0.7, 0.7)) 7\n",
      "((0.2, 0.2), (0.2, 0.8), (0.75, 0.25), (0.75, 0.75)) 9\n",
      "((0.3, 0.2), (0.3, 0.8), (0.7, 0.2), (0.7, 0.7)) 14\n"
     ]
    },
    {
     "data": {
      "application/vnd.jupyter.widget-view+json": {
       "model_id": "fa50acf89dbe4236b07d527f821a8916",
       "version_major": 2,
       "version_minor": 0
      },
      "text/plain": [
       "HBox(children=(HTML(value=''), FloatProgress(value=0.0, max=100000.0), HTML(value='')))"
      ]
     },
     "metadata": {},
     "output_type": "display_data"
    },
    {
     "name": "stdout",
     "output_type": "stream",
     "text": [
      "\n",
      "((0.3, 0.3), (0.3, 0.7), (0.7, 0.3), (0.7, 0.7)) 8\n",
      "((0.2, 0.2), (0.2, 0.8), (0.75, 0.25), (0.75, 0.75)) 11\n",
      "((0.3, 0.2), (0.3, 0.8), (0.7, 0.2), (0.7, 0.7)) 16\n"
     ]
    },
    {
     "data": {
      "application/vnd.jupyter.widget-view+json": {
       "model_id": "5c134a04c5de42a5b5856926919daba1",
       "version_major": 2,
       "version_minor": 0
      },
      "text/plain": [
       "HBox(children=(HTML(value=''), FloatProgress(value=0.0, max=100000.0), HTML(value='')))"
      ]
     },
     "metadata": {},
     "output_type": "display_data"
    },
    {
     "name": "stdout",
     "output_type": "stream",
     "text": [
      "\n",
      "((0.3, 0.3), (0.3, 0.7), (0.7, 0.3), (0.7, 0.7)) 9\n",
      "((0.2, 0.2), (0.2, 0.8), (0.75, 0.25), (0.75, 0.75)) 12\n",
      "((0.3, 0.2), (0.3, 0.8), (0.7, 0.2), (0.7, 0.7)) 10\n"
     ]
    }
   ],
   "source": [
    "def direct_disks_box(N, sigma):\n",
    "    condition = False\n",
    "    while condition == False:\n",
    "        # random coord of 1st disk sampled in (sigma, 1.0 - sigma) in order not to touch the wall\n",
    "        L = [(random.uniform(sigma, 1.0 - sigma), random.uniform(sigma, 1.0 - sigma))]\n",
    "        # 3 remaining coord for the other disks\n",
    "        for k in range(1, N):\n",
    "            a = (random.uniform(sigma, 1.0 - sigma), random.uniform(sigma, 1.0 - sigma))\n",
    "            min_dist = min(math.sqrt((a[0] - b[0]) ** 2 + (a[1] - b[1]) ** 2) for b in L)\n",
    "            if min_dist < 2.0 * sigma: # overlap between disks\n",
    "                condition = False\n",
    "                #print(\"break after k = \", k)\n",
    "                break # tabula rasa\n",
    "            else:\n",
    "                L.append(a)\n",
    "                condition = True\n",
    "    return L\n",
    "\n",
    "'''\n",
    "Check for equi-probability of configs a, b, c\n",
    "are they all predicted with equal frequency by direct_disks_box()?\n",
    "'''\n",
    "for _ in range(3):\n",
    "    sigma = 0.15\n",
    "    del_xy = 0.05 #0.10 #0.05\n",
    "    n_runs = 10**5\n",
    "    conf_a = ((0.30, 0.30), (0.30, 0.70), (0.70, 0.30), (0.70,0.70))\n",
    "    conf_b = ((0.20, 0.20), (0.20, 0.80), (0.75, 0.25), (0.75,0.75))\n",
    "    conf_c = ((0.30, 0.20), (0.30, 0.80), (0.70, 0.20), (0.70,0.70))\n",
    "    configurations = [conf_a, conf_b, conf_c]\n",
    "    hits = {conf_a: 0, conf_b: 0, conf_c: 0}\n",
    "    #for _ in range(10):\n",
    "    for run in tqdm(range(n_runs)):\n",
    "        # direct sampling of a legal config [(x1,y1),(x2,y2),(x3,y3),(x4,y4)]\n",
    "        x_vec = direct_disks_box(4, sigma)\n",
    "\n",
    "        # for each of conf_a, conf_b, confc\n",
    "        for conf in configurations:\n",
    "            condition_hit = True\n",
    "            # for each HD center of current config (a,b or c)\n",
    "            for b in conf:\n",
    "                # max(abs(a[0] - b[0]), abs(a[1] - b[1])) for a in x_vec \n",
    "                # distance between current disk and every disk of directly sampled xvec config\n",
    "                # max(...): only the largest distance, taken along x or y axis, is considered\n",
    "                # min(...) < del_xy : considering the closest HD of xvec, is the distance smaller than del_xy?\n",
    "                condition_b = min(max(abs(a[0] - b[0]), abs(a[1] - b[1])) for a in x_vec) < del_xy\n",
    "                condition_hit *= condition_b # if yes, condition_hit = True\n",
    "            # if condition_hit is still True after testing all disks of config `conf`\n",
    "            if condition_hit:\n",
    "                #print(\"run=\",run)\n",
    "                # increment number of hits for config `conf`\n",
    "                hits[conf] += 1\n",
    "\n",
    "    for conf in configurations:\n",
    "        print (conf, hits[conf])"
   ]
  },
  {
   "cell_type": "code",
   "execution_count": null,
   "metadata": {},
   "outputs": [],
   "source": [
    "sigma = 0.15,  del_xy = 0.05\n",
    "n_runs 10**4: 0 0 0   0 0 0   0 0 0\n",
    "n_runs 10**5: (15 18 19) (10 7 9) (6 13 11)\n",
    "n_runs 10**6:(98, 103, 99) (117, 128, 104) (122,115,99)\n",
    "\n",
    "sigma = 0.15, del_xy = 0.10\n",
    "n_runs 10**4: (174,82,92) (207,93,109) (190,94,79)\n",
    "n_runs 10**5: (1905, 965,997) (1868,930,1052) (1837,909,975)\n",
    "n_runs 10**6: (19060  9206  9961) (18990 9102 10047) (19197 9294 10087)"
   ]
  },
  {
   "cell_type": "markdown",
   "metadata": {},
   "source": [
    "#### 2. using Markov chain sampling"
   ]
  },
  {
   "cell_type": "code",
   "execution_count": 11,
   "metadata": {},
   "outputs": [
    {
     "name": "stderr",
     "output_type": "stream",
     "text": [
      "<ipython-input-11-20e45edce1bd>:32: TqdmDeprecationWarning: This function will be removed in tqdm==5.0.0\n",
      "Please use `tqdm.notebook.tqdm` instead of `tqdm.tqdm_notebook`\n",
      "  for steps in tqdm(range(n_steps)):\n"
     ]
    },
    {
     "data": {
      "application/vnd.jupyter.widget-view+json": {
       "model_id": "73eeafcfa6af4a1fa53fe711d1f5ad7e",
       "version_major": 2,
       "version_minor": 0
      },
      "text/plain": [
       "HBox(children=(HTML(value=''), FloatProgress(value=0.0, max=1000000.0), HTML(value='')))"
      ]
     },
     "metadata": {},
     "output_type": "display_data"
    },
    {
     "name": "stdout",
     "output_type": "stream",
     "text": [
      "\n",
      "((0.3, 0.3), (0.3, 0.7), (0.7, 0.3), (0.7, 0.7)) 100\n",
      "((0.2, 0.2), (0.2, 0.8), (0.75, 0.25), (0.75, 0.75)) 82\n",
      "((0.3, 0.2), (0.3, 0.8), (0.7, 0.2), (0.7, 0.7)) 75\n"
     ]
    },
    {
     "data": {
      "application/vnd.jupyter.widget-view+json": {
       "model_id": "66b97e9d2a3a4988a62ff4d8fd1f6270",
       "version_major": 2,
       "version_minor": 0
      },
      "text/plain": [
       "HBox(children=(HTML(value=''), FloatProgress(value=0.0, max=1000000.0), HTML(value='')))"
      ]
     },
     "metadata": {},
     "output_type": "display_data"
    },
    {
     "name": "stdout",
     "output_type": "stream",
     "text": [
      "\n",
      "((0.3, 0.3), (0.3, 0.7), (0.7, 0.3), (0.7, 0.7)) 106\n",
      "((0.2, 0.2), (0.2, 0.8), (0.75, 0.25), (0.75, 0.75)) 96\n",
      "((0.3, 0.2), (0.3, 0.8), (0.7, 0.2), (0.7, 0.7)) 99\n"
     ]
    },
    {
     "data": {
      "application/vnd.jupyter.widget-view+json": {
       "model_id": "6690a1f9828e4b9b8ca3af5deb3e1a7a",
       "version_major": 2,
       "version_minor": 0
      },
      "text/plain": [
       "HBox(children=(HTML(value=''), FloatProgress(value=0.0, max=1000000.0), HTML(value='')))"
      ]
     },
     "metadata": {},
     "output_type": "display_data"
    },
    {
     "name": "stdout",
     "output_type": "stream",
     "text": [
      "\n",
      "((0.3, 0.3), (0.3, 0.7), (0.7, 0.3), (0.7, 0.7)) 147\n",
      "((0.2, 0.2), (0.2, 0.8), (0.75, 0.25), (0.75, 0.75)) 90\n",
      "((0.3, 0.2), (0.3, 0.8), (0.7, 0.2), (0.7, 0.7)) 98\n"
     ]
    }
   ],
   "source": [
    "'''\n",
    "Check for equi-probability of configs a, b, c\n",
    "are they all predicted with equal frequency using a Markov chain?\n",
    "'''\n",
    "from tqdm import tqdm_notebook as tqdm\n",
    "import random, math\n",
    "\n",
    "n_runs = 3\n",
    "\n",
    "sigma = 0.15\n",
    "del_xy = 0.05\n",
    "\n",
    "n_steps = 10**6\n",
    "\n",
    "conf_a = ((0.30, 0.30), (0.30, 0.70), (0.70, 0.30), (0.70,0.70))\n",
    "conf_b = ((0.20, 0.20), (0.20, 0.80), (0.75, 0.25), (0.75,0.75))\n",
    "conf_c = ((0.30, 0.20), (0.30, 0.80), (0.70, 0.20), (0.70,0.70))\n",
    "configurations = [conf_a, conf_b, conf_c]\n",
    "\n",
    "for run in range(n_runs):\n",
    "\n",
    "    hits = {conf_a: 0, conf_b: 0, conf_c: 0}\n",
    "\n",
    "    # markov sampling of a legal config [(x1,y1),(x2,y2),(x3,y3),(x4,y4)]:\n",
    "    # initial config of all disks\n",
    "    xvec = [[0.25, 0.25], [0.75, 0.25], [0.25, 0.75], [0.75, 0.75]]\n",
    "    #xvec = [[0.2, 0.2], [0.5, 0.2], [0.8, 0.2], [0.75, 0.75]]\n",
    "    # sigma = 0.15 # radius of a disk\n",
    "    sigma_sq = sigma ** 2\n",
    "    delta = 0.1\n",
    "    #n_steps = 1000\n",
    "    for steps in tqdm(range(n_steps)):\n",
    "        a = random.choice(xvec) # choose one of the disks\n",
    "        # move it\n",
    "        b = [a[0] + random.uniform(-delta, delta), a[1] + random.uniform(-delta, delta)]\n",
    "        # smallest distance between moved disk and any other disk\n",
    "        min_dist = min((b[0] - c[0]) ** 2 + (b[1] - c[1]) ** 2 for c in xvec if c != a)\n",
    "        # shortest distance to any wall\n",
    "        box_cond = min(b[0], b[1]) < sigma or max(b[0], b[1]) > 1.0 - sigma\n",
    "        # test if no collision\n",
    "        if not (box_cond or min_dist < 4.0 * sigma ** 2):\n",
    "            a[:] = b # if OK update => L will be updated with new position of initially chosen disk `a`\n",
    "            \n",
    "            # xvec contains a legal config because of broadcasting a[:]\n",
    "            # testing configs conf_a, conf_b, conf_c\n",
    "    \n",
    "            # for each of conf_a, conf_b, confc\n",
    "            for conf in configurations:\n",
    "                condition_hit = True\n",
    "                # for each HD center of current config (a,b or c)\n",
    "                for b in conf:\n",
    "                    # max(abs(a[0] - b[0]), abs(a[1] - b[1])) for a in x_vec \n",
    "                    # distance between current disk and every disk of directly sampled xvec config\n",
    "                    # max(...): only the largest distance, taken along x or y axis, is considered\n",
    "                    # min(...) < del_xy : considering the closest HD of xvec, is the distance smaller than del_xy?\n",
    "                    condition_b = min(max(abs(a[0] - b[0]), abs(a[1] - b[1])) for a in xvec) < del_xy\n",
    "                    condition_hit *= condition_b # if yes, condition_hit = True\n",
    "                # if condition_hit is still True after testing all disks of config `conf`\n",
    "                if condition_hit:\n",
    "                    #print(\"run=\",run)\n",
    "                    # increment number of hits for config `conf`\n",
    "                    hits[conf] += 1\n",
    "\n",
    "    for conf in configurations:\n",
    "        print (conf, hits[conf])    "
   ]
  },
  {
   "cell_type": "markdown",
   "metadata": {},
   "source": [
    "Interestingly, when starting from a config that is very different from configs a b or c (such as : xvec = [[0.2, 0.2], [0.5, 0.2], [0.8, 0.2], [0.75, 0.75]]), we find also similar results, which means that the Markov chain length is greater that its correlation time.\n",
    "\n",
    "For a given number steps, Markov chain sampling produces some rejected states, so the number of hits is somewhat lower than direct sampling (which, for each steps, will go into a while loop until a legal config is found)"
   ]
  },
  {
   "cell_type": "code",
   "execution_count": null,
   "metadata": {},
   "outputs": [],
   "source": [
    "sigma = 0.15,  del_xy = 0.05\n",
    "\n",
    "direct sampling (previous question):\n",
    "n_runs 10**4: (0 0 0)   (0 0 0)   (0 0 0)\n",
    "n_runs 10**5: (15 18 19) (10 7 9) (6 13 11)\n",
    "n_runs 10**6:(98, 103, 99) (117, 128, 104) (122,115,99)\n",
    "\n",
    "Markov sampling:\n",
    "n_runs = 10**4 (0 0 1) (0 0 0) (0 0 0)\n",
    "n_runs=10**5 (11 8 19 ) (6 6 18) (8 8 9)\n",
    "n_runs=10**6 (83 86 122) (88 88 86) (79 75 96)\n",
    "n_runs=10**7 (1020 775 838) (952 779 919) (912 770 836)\n",
    "\n",
    "\n"
   ]
  },
  {
   "cell_type": "markdown",
   "metadata": {},
   "source": [
    "#### 3. using classical MD"
   ]
  },
  {
   "cell_type": "code",
   "execution_count": 40,
   "metadata": {
    "scrolled": true
   },
   "outputs": [
    {
     "name": "stderr",
     "output_type": "stream",
     "text": [
      "<ipython-input-40-d5681bc928f7>:38: TqdmDeprecationWarning: This function will be removed in tqdm==5.0.0\n",
      "Please use `tqdm.notebook.tqdm` instead of `tqdm.tqdm_notebook`\n",
      "  for event in tqdm(range(n_events)):\n"
     ]
    },
    {
     "data": {
      "application/vnd.jupyter.widget-view+json": {
       "model_id": "f1bfc73128a24bc08fe5f60fa4a6f467",
       "version_major": 2,
       "version_minor": 0
      },
      "text/plain": [
       "HBox(children=(HTML(value=''), FloatProgress(value=0.0, max=5000000.0), HTML(value='')))"
      ]
     },
     "metadata": {},
     "output_type": "display_data"
    },
    {
     "name": "stdout",
     "output_type": "stream",
     "text": [
      "0\n",
      "100000\n",
      "200000\n",
      "300000\n",
      "400000\n",
      "500000\n",
      "600000\n",
      "700000\n",
      "800000\n",
      "900000\n",
      "1000000\n",
      "1100000\n",
      "1200000\n",
      "1300000\n",
      "1400000\n",
      "1500000\n",
      "1600000\n",
      "1700000\n",
      "1800000\n",
      "1900000\n",
      "2000000\n",
      "2100000\n",
      "2200000\n",
      "2300000\n",
      "2400000\n",
      "2500000\n",
      "2600000\n",
      "2700000\n",
      "2800000\n",
      "2900000\n",
      "3000000\n",
      "3100000\n",
      "3200000\n",
      "3300000\n",
      "3400000\n",
      "3500000\n",
      "3600000\n",
      "3700000\n",
      "3800000\n",
      "3900000\n",
      "4000000\n",
      "4100000\n",
      "4200000\n",
      "4300000\n",
      "4400000\n",
      "4500000\n",
      "4600000\n",
      "4700000\n",
      "4800000\n",
      "4900000\n",
      "\n",
      "t= 611872.6128303948\n",
      "((0.3, 0.3), (0.3, 0.7), (0.7, 0.3), (0.7, 0.7)) 667\n",
      "t= 611872.6128303948\n",
      "((0.2, 0.2), (0.2, 0.8), (0.75, 0.25), (0.75, 0.75)) 634\n",
      "t= 611872.6128303948\n",
      "((0.3, 0.2), (0.3, 0.8), (0.7, 0.2), (0.7, 0.7)) 672\n"
     ]
    }
   ],
   "source": [
    "'''\n",
    "Check for equi-probability of configs a, b, c\n",
    "are they all predicted with equal frequency using a classical MD simulation?\n",
    "'''\n",
    "import math, pylab\n",
    "\n",
    "def wall_time(pos_a, vel_a, sigma):\n",
    "    if vel_a > 0.0:\n",
    "        del_t = (1.0 - sigma - pos_a) / vel_a\n",
    "    elif vel_a < 0.0:\n",
    "        del_t = (pos_a - sigma) / abs(vel_a)\n",
    "    else:\n",
    "        del_t = float('inf')\n",
    "    return del_t\n",
    "\n",
    "def pair_time(pos_a, vel_a, pos_b, vel_b, sigma):\n",
    "    del_x = [pos_b[0] - pos_a[0], pos_b[1] - pos_a[1]]\n",
    "    del_x_sq = del_x[0] ** 2 + del_x[1] ** 2\n",
    "    del_v = [vel_b[0] - vel_a[0], vel_b[1] - vel_a[1]]\n",
    "    del_v_sq = del_v[0] ** 2 + del_v[1] ** 2\n",
    "    scal = del_v[0] * del_x[0] + del_v[1] * del_x[1]\n",
    "    Upsilon = scal ** 2 - del_v_sq * ( del_x_sq - 4.0 * sigma **2)\n",
    "    if Upsilon > 0.0 and scal < 0.0:\n",
    "        del_t = - (scal + math.sqrt(Upsilon)) / del_v_sq\n",
    "    else:\n",
    "        del_t = float('inf')\n",
    "    return del_t\n",
    "\n",
    "conf_a = ((0.30, 0.30), (0.30, 0.70), (0.70, 0.30), (0.70,0.70))\n",
    "conf_b = ((0.20, 0.20), (0.20, 0.80), (0.75, 0.25), (0.75,0.75))\n",
    "conf_c = ((0.30, 0.20), (0.30, 0.80), (0.70, 0.20), (0.70,0.70))\n",
    "configurations = [conf_a, conf_b, conf_c]\n",
    "hits = {conf_a: 0, conf_b: 0, conf_c: 0}\n",
    "del_xy = 0.10\n",
    "\n",
    "# initial state\n",
    "pos = [[0.25, 0.25], [0.75, 0.25], [0.25, 0.75], [0.75, 0.75]]\n",
    "vel = [[0.21, 0.12], [0.71, 0.18], [-0.23, -0.79], [0.78, 0.1177]]\n",
    "\n",
    "singles = [(0, 0), (0, 1), (1, 0), (1, 1), (2, 0), (2, 1), (3, 0), (3, 1)]\n",
    "pairs = [(0, 1), (0, 2), (0, 3), (1, 2), (1, 3), (2, 3)]\n",
    "sigma = 0.10\n",
    "t = 0.0\n",
    "n_events = 5000000\n",
    "for event in tqdm(range(n_events)):\n",
    "    if event % 100000 == 0:\n",
    "        print (event)\n",
    "    # wall collision times and pair collision times given positions and velocities from previous step\n",
    "    wall_times = [wall_time(pos[k][l], vel[k][l], sigma) for k, l  in singles]\n",
    "    pair_times = [pair_time(pos[k], vel[k], pos[l], vel[l], sigma) for k, l in pairs]\n",
    "    next_event = min(wall_times + pair_times)\n",
    "    t_previous = t\n",
    "    \n",
    "    \n",
    "    # range(int(t + 1), int(t + next_event + 1)) = range(1,1) if last event occurred in the same interval as t_previous\n",
    "    # we need int(t + next_event + 1) > int(t + 1) to go into the for loop and test if we sample configurations\n",
    "    # If several events all happened between t=1 and t= 1.999... we wil not go into the for loop.\n",
    "    # Check using:\n",
    "    # print(\"t_previous = \", t_previous, \"t=\", t, \"int(t + 1), int(t + next_event + 1) \", int(t + 1), int(t + next_event + 1))\n",
    "    for inter_times in range(int(t + 1), int(t + next_event + 1)):\n",
    "        #print(\"inter_times = \", inter_times)\n",
    "        del_t = inter_times - t_previous\n",
    "        \n",
    "        # update positions\n",
    "        for k, l in singles:\n",
    "            pos[k][l] += vel[k][l] * del_t\n",
    "        t_previous = inter_times\n",
    "        \n",
    "        # check if configs a,b or c are sampled (within del_xy error)\n",
    "        for conf in configurations:\n",
    "            condition_hit = True\n",
    "            for b in conf:\n",
    "                condition_b = min(max(abs(a[0] - b[0]), abs(a[1] - b[1])) for a in pos) < del_xy\n",
    "                condition_hit *= condition_b\n",
    "            if condition_hit:\n",
    "                #print(\"conf = \", conf, \"condition hit at t = \", t)\n",
    "                hits[conf] += 1\n",
    "                \n",
    "    # resume calculation of trajectories after latest event\n",
    "    t += next_event\n",
    "    del_t = t - t_previous\n",
    "    for k, l in singles:\n",
    "        pos[k][l] += vel[k][l] * del_t\n",
    "    if min(wall_times) < min(pair_times):\n",
    "        collision_disk, direction = singles[wall_times.index(next_event)]\n",
    "        vel[collision_disk][direction] *= -1.0\n",
    "    else:\n",
    "        a, b = pairs[pair_times.index(next_event)]\n",
    "        del_x = [pos[b][0] - pos[a][0], pos[b][1] - pos[a][1]]\n",
    "        abs_x = math.sqrt(del_x[0] ** 2 + del_x[1] ** 2)\n",
    "        e_perp = [c / abs_x for c in del_x]\n",
    "        del_v = [vel[b][0] - vel[a][0], vel[b][1] - vel[a][1]]\n",
    "        scal = del_v[0] * e_perp[0] + del_v[1] * e_perp[1]\n",
    "        for k in range(2):\n",
    "            vel[a][k] += e_perp[k] * scal\n",
    "            vel[b][k] -= e_perp[k] * scal\n",
    "\n",
    "for conf in configurations:\n",
    "    print(\"t=\", t) # 5000000 =>\n",
    "    print (conf, hits[conf])"
   ]
  },
  {
   "cell_type": "markdown",
   "metadata": {},
   "source": [
    "### Histogram of center of a disk"
   ]
  },
  {
   "cell_type": "markdown",
   "metadata": {},
   "source": [
    "#### 1. using direct sampling"
   ]
  },
  {
   "cell_type": "code",
   "execution_count": 10,
   "metadata": {},
   "outputs": [],
   "source": [
    "from matplotlib import pyplot as plt"
   ]
  },
  {
   "cell_type": "code",
   "execution_count": 43,
   "metadata": {},
   "outputs": [
    {
     "name": "stderr",
     "output_type": "stream",
     "text": [
      "<ipython-input-43-da8689e2d9a9>:23: TqdmDeprecationWarning: This function will be removed in tqdm==5.0.0\n",
      "Please use `tqdm.notebook.tqdm` instead of `tqdm.tqdm_notebook`\n",
      "  for run in tqdm(range(n_runs)):\n"
     ]
    },
    {
     "data": {
      "application/vnd.jupyter.widget-view+json": {
       "model_id": "89dbec7b4db14e0aa9e20146bcd01f00",
       "version_major": 2,
       "version_minor": 0
      },
      "text/plain": [
       "HBox(children=(HTML(value=''), FloatProgress(value=0.0, max=1000000.0), HTML(value='')))"
      ]
     },
     "metadata": {},
     "output_type": "display_data"
    },
    {
     "name": "stdout",
     "output_type": "stream",
     "text": [
      "\n"
     ]
    }
   ],
   "source": [
    "import random\n",
    "\n",
    "def direct_disks_box(N, sigma):\n",
    "    overlap = True\n",
    "    while overlap == True:\n",
    "        L = [(random.uniform(sigma, 1.0 - sigma), random.uniform(sigma, 1.0 - sigma))]\n",
    "        for k in range(1, N):\n",
    "            a = (random.uniform(sigma, 1.0 - sigma), random.uniform(sigma, 1.0 - sigma))\n",
    "            min_dist_sq = min(((a[0] - b[0]) ** 2 + (a[1] - b[1]) ** 2) for b in L)\n",
    "            if min_dist_sq < 4.0 * sigma ** 2:\n",
    "                overlap = True\n",
    "                break\n",
    "            else:\n",
    "                overlap = False\n",
    "                L.append(a)\n",
    "    return L\n",
    "\n",
    "\n",
    "N = 4\n",
    "sigma = 0#0.1197\n",
    "n_runs = 1000000\n",
    "histo_data = []\n",
    "for run in tqdm(range(n_runs)):\n",
    "    pos = direct_disks_box(N, sigma)\n",
    "    for k in range(N):\n",
    "        histo_data.append(pos[k][0])\n"
   ]
  },
  {
   "cell_type": "markdown",
   "metadata": {},
   "source": [
    "More configurations are available in the corner of the box (leaves more space for other disks)"
   ]
  },
  {
   "cell_type": "code",
   "execution_count": 42,
   "metadata": {},
   "outputs": [
    {
     "data": {
      "image/png": "[encoded data removed]",
      "text/plain": [
       "<Figure size 432x288 with 1 Axes>"
      ]
     },
     "metadata": {
      "needs_background": "light"
     },
     "output_type": "display_data"
    }
   ],
   "source": [
    "plt.hist(histo_data, bins=100, density=True)\n",
    "plt.xlabel('x')\n",
    "plt.ylabel('frequency')\n",
    "plt.title('Direct sampling: x coordinate histogram (density eta=0.18)')\n",
    "plt.grid()\n",
    "plt.savefig('direct_disks_histo.png')\n",
    "plt.show()"
   ]
  },
  {
   "cell_type": "code",
   "execution_count": 44,
   "metadata": {},
   "outputs": [
    {
     "data": {
      "image/png": "[encoded data removed]",
      "text/plain": [
       "<Figure size 432x288 with 1 Axes>"
      ]
     },
     "metadata": {
      "needs_background": "light"
     },
     "output_type": "display_data"
    }
   ],
   "source": [
    "# eta = 0 => flat histogram\n",
    "\n",
    "plt.hist(histo_data, bins=100, density=True)#, normed=True)\n",
    "plt.xlabel('x')\n",
    "plt.ylabel('frequency')\n",
    "plt.title('Direct sampling: x coordinate histogram (density eta=0.18)')\n",
    "plt.grid()\n",
    "plt.savefig('direct_disks_histo.png')\n",
    "plt.show()\n"
   ]
  },
  {
   "cell_type": "code",
   "execution_count": null,
   "metadata": {},
   "outputs": [],
   "source": []
  },
  {
   "cell_type": "markdown",
   "metadata": {},
   "source": [
    "#### 2. using Markov chain sampling"
   ]
  },
  {
   "cell_type": "code",
   "execution_count": 48,
   "metadata": {},
   "outputs": [
    {
     "name": "stderr",
     "output_type": "stream",
     "text": [
      "<ipython-input-48-3f2af636a5cf>:12: TqdmDeprecationWarning: This function will be removed in tqdm==5.0.0\n",
      "Please use `tqdm.notebook.tqdm` instead of `tqdm.tqdm_notebook`\n",
      "  for steps in tqdm(range(n_steps)):\n"
     ]
    },
    {
     "data": {
      "application/vnd.jupyter.widget-view+json": {
       "model_id": "d47efb8258274578a5401984ba4e675e",
       "version_major": 2,
       "version_minor": 0
      },
      "text/plain": [
       "HBox(children=(HTML(value=''), FloatProgress(value=0.0, max=2000000.0), HTML(value='')))"
      ]
     },
     "metadata": {},
     "output_type": "display_data"
    },
    {
     "name": "stdout",
     "output_type": "stream",
     "text": [
      "\n"
     ]
    }
   ],
   "source": [
    "import random\n",
    "from matplotlib import pyplot as plt\n",
    "\n",
    "L = [[0.25, 0.25], [0.75, 0.25], [0.25, 0.75], [0.75, 0.75]]\n",
    "sigma = 0.1197\n",
    "sigma_sq = sigma ** 2\n",
    "delta = 0.1\n",
    "n_steps = 2000000\n",
    "\n",
    "N = 4\n",
    "histo_data = []\n",
    "for steps in tqdm(range(n_steps)):\n",
    "    a = random.choice(L)\n",
    "    b = [a[0] + random.uniform(-delta, delta), a[1] + random.uniform(-delta, delta)]\n",
    "    min_dist = min((b[0] - c[0]) ** 2 + (b[1] - c[1]) ** 2 for c in L if c != a)\n",
    "    box_cond = min(b[0], b[1]) < sigma or max(b[0], b[1]) > 1.0 - sigma\n",
    "    \n",
    "    if not (box_cond or min_dist < 4.0 * sigma ** 2):\n",
    "        a[:] = b\n",
    "    #else:\n",
    "    #    print(\"*** steps ***\", steps)\n",
    "    #print (L)\n",
    "    for k in range(N):\n",
    "        histo_data.append(L[k][0])\n",
    "\n"
   ]
  },
  {
   "cell_type": "code",
   "execution_count": 49,
   "metadata": {},
   "outputs": [
    {
     "data": {
      "image/png": "[encoded data removed]",
      "text/plain": [
       "<Figure size 432x288 with 1 Axes>"
      ]
     },
     "metadata": {
      "needs_background": "light"
     },
     "output_type": "display_data"
    }
   ],
   "source": [
    "plt.hist(histo_data, bins=100, density=True)#, normed=True)\n",
    "plt.xlabel('x')\n",
    "plt.ylabel('frequency')\n",
    "plt.title('Markov chain sampling: x coordinate histogram (density eta=0.1197)')\n",
    "plt.grid()\n",
    "plt.savefig('markov_disks_histo.png')\n",
    "plt.show()\n"
   ]
  },
  {
   "cell_type": "markdown",
   "metadata": {},
   "source": [
    "#### 3. using classical MD"
   ]
  },
  {
   "cell_type": "code",
   "execution_count": 63,
   "metadata": {},
   "outputs": [
    {
     "name": "stderr",
     "output_type": "stream",
     "text": [
      "<ipython-input-63-e0dcb20706bf>:40: TqdmDeprecationWarning: This function will be removed in tqdm==5.0.0\n",
      "Please use `tqdm.notebook.tqdm` instead of `tqdm.tqdm_notebook`\n",
      "  for event in tqdm(range(n_events)):\n"
     ]
    },
    {
     "data": {
      "application/vnd.jupyter.widget-view+json": {
       "model_id": "fb574a1027ab4d20b5fad4f10672a0c8",
       "version_major": 2,
       "version_minor": 0
      },
      "text/plain": [
       "HBox(children=(HTML(value=''), FloatProgress(value=0.0, max=5000000.0), HTML(value='')))"
      ]
     },
     "metadata": {},
     "output_type": "display_data"
    },
    {
     "name": "stdout",
     "output_type": "stream",
     "text": [
      "\n"
     ]
    }
   ],
   "source": [
    "import math\n",
    "\n",
    "def wall_time(pos_a, vel_a, sigma):\n",
    "    if vel_a > 0.0:\n",
    "        del_t = (1.0 - sigma - pos_a) / vel_a\n",
    "    elif vel_a < 0.0:\n",
    "        del_t = (pos_a - sigma) / abs(vel_a)\n",
    "    else:\n",
    "        del_t = float('inf')\n",
    "    return del_t\n",
    "\n",
    "def pair_time(pos_a, vel_a, pos_b, vel_b, sigma):\n",
    "    del_x = [pos_b[0] - pos_a[0], pos_b[1] - pos_a[1]]\n",
    "    del_x_sq = del_x[0] ** 2 + del_x[1] ** 2\n",
    "    del_v = [vel_b[0] - vel_a[0], vel_b[1] - vel_a[1]]\n",
    "    del_v_sq = del_v[0] ** 2 + del_v[1] ** 2\n",
    "    scal = del_v[0] * del_x[0] + del_v[1] * del_x[1]\n",
    "    Upsilon = scal ** 2 - del_v_sq * ( del_x_sq - 4.0 * sigma **2)\n",
    "    if Upsilon > 0.0 and scal < 0.0:\n",
    "        del_t = - (scal + math.sqrt(Upsilon)) / del_v_sq\n",
    "    else:\n",
    "        del_t = float('inf')\n",
    "    return del_t\n",
    "\n",
    "# initial state\n",
    "pos = [[0.25, 0.25], [0.75, 0.25], [0.25, 0.75], [0.75, 0.75]]\n",
    "vel = [[0.21, 0.12], [0.71, 0.18], [-0.23, -0.79], [0.78, 0.1177]]\n",
    "\n",
    "singles = [(0, 0), (0, 1), (1, 0), (1, 1), (2, 0), (2, 1), (3, 0), (3, 1)]\n",
    "pairs = [(0, 1), (0, 2), (0, 3), (1, 2), (1, 3), (2, 3)]\n",
    "sigma = 0.1197\n",
    "t = 0.0\n",
    "n_events = 5000000\n",
    "\n",
    "N = 4\n",
    "histo_data = []\n",
    "\n",
    "\n",
    "\n",
    "for event in tqdm(range(n_events)):\n",
    "#    if event % 100000 == 0:\n",
    "#        print (event)\n",
    "    # wall collision times and pair collision times given positions and velocities from previous step\n",
    "    wall_times = [wall_time(pos[k][l], vel[k][l], sigma) for k, l  in singles]\n",
    "    pair_times = [pair_time(pos[k], vel[k], pos[l], vel[l], sigma) for k, l in pairs]\n",
    "    next_event = min(wall_times + pair_times)\n",
    "    t_previous = t\n",
    "    \n",
    "    \n",
    "    # range(int(t + 1), int(t + next_event + 1)) = range(1,1) if last event occurred in the same interval as t_previous\n",
    "    # we need int(t + next_event + 1) > int(t + 1) to go into the for loop and test if we sample configurations\n",
    "    # If several events all happened between t=1 and t= 1.999... we wil not go into the for loop.\n",
    "    # Check using:\n",
    "    # print(\"t_previous = \", t_previous, \"t=\", t, \"int(t + 1), int(t + next_event + 1) \", int(t + 1), int(t + next_event + 1))\n",
    "    for inter_times in range(int(t + 1), int(t + next_event + 1)):\n",
    "        #print(\"inter_times = \", inter_times)\n",
    "        del_t = inter_times - t_previous\n",
    "        \n",
    "        # update positions\n",
    "        for k, l in singles:\n",
    "            pos[k][l] += vel[k][l] * del_t\n",
    "        t_previous = inter_times\n",
    "\n",
    "        for k in range(N):\n",
    "            histo_data.append(pos[k][0])\n",
    "\n",
    "                \n",
    "    # resume calculation of trajectories after latest event\n",
    "    t += next_event\n",
    "    del_t = t - t_previous\n",
    "    for k, l in singles:\n",
    "        pos[k][l] += vel[k][l] * del_t\n",
    "    if min(wall_times) < min(pair_times):\n",
    "        collision_disk, direction = singles[wall_times.index(next_event)]\n",
    "        vel[collision_disk][direction] *= -1.0\n",
    "    else:\n",
    "        a, b = pairs[pair_times.index(next_event)]\n",
    "        del_x = [pos[b][0] - pos[a][0], pos[b][1] - pos[a][1]]\n",
    "        abs_x = math.sqrt(del_x[0] ** 2 + del_x[1] ** 2)\n",
    "        e_perp = [c / abs_x for c in del_x]\n",
    "        del_v = [vel[b][0] - vel[a][0], vel[b][1] - vel[a][1]]\n",
    "        scal = del_v[0] * e_perp[0] + del_v[1] * e_perp[1]\n",
    "        for k in range(2):\n",
    "            vel[a][k] += e_perp[k] * scal\n",
    "            vel[b][k] -= e_perp[k] * scal\n",
    "\n"
   ]
  },
  {
   "cell_type": "code",
   "execution_count": 64,
   "metadata": {},
   "outputs": [
    {
     "data": {
      "image/png": "[encoded data removed]",
      "text/plain": [
       "<Figure size 432x288 with 1 Axes>"
      ]
     },
     "metadata": {
      "needs_background": "light"
     },
     "output_type": "display_data"
    }
   ],
   "source": [
    "plt.hist(histo_data, bins=100, density=True)#, normed=True)\n",
    "plt.xlabel('x')\n",
    "plt.ylabel('frequency')\n",
    "plt.title('classical_MD: x coordinate histogram (density eta=0.1197)')\n",
    "plt.grid()\n",
    "plt.savefig('events_disks_histo.png')\n",
    "plt.show()\n"
   ]
  },
  {
   "cell_type": "code",
   "execution_count": null,
   "metadata": {},
   "outputs": [],
   "source": []
  }
 ],
 "metadata": {
  "kernelspec": {
   "display_name": "hbd",
   "language": "python",
   "name": "hbd"
  },
  "language_info": {
   "codemirror_mode": {
    "name": "ipython",
    "version": 3
   },
   "file_extension": ".py",
   "mimetype": "text/x-python",
   "name": "python",
   "nbconvert_exporter": "python",
   "pygments_lexer": "ipython3",
   "version": "3.8.5"
  }
 },
 "nbformat": 4,
 "nbformat_minor": 4
}
